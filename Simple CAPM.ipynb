{
 "cells": [
  {
   "cell_type": "code",
   "execution_count": 1,
   "metadata": {
    "collapsed": true
   },
   "outputs": [],
   "source": [
    "\"\"\" Linear regression with SciPy \"\"\"\n",
    "from scipy import stats"
   ]
  },
  {
   "cell_type": "markdown",
   "metadata": {},
   "source": [
    "First let's just assume some values for stock returns and market returns. In other words $E(r_i)-r_f$ and $E(r_m)-r_f$.\n",
    "\n",
    "In reality you would get these from real data, but this is just for illustration."
   ]
  },
  {
   "cell_type": "code",
   "execution_count": 2,
   "metadata": {
    "collapsed": true
   },
   "outputs": [],
   "source": [
    "stock_returns = [0.065, 0.0265, -0.0593, -0.001, 0.0346]\n",
    "mkt_returns = [0.055, -0.09, -0.041, 0.045, 0.022]"
   ]
  },
  {
   "cell_type": "code",
   "execution_count": 4,
   "metadata": {
    "collapsed": false
   },
   "outputs": [
    {
     "name": "stdout",
     "output_type": "stream",
     "text": [
      "0.507743187877 -0.00848190035246 0.522715523909\n"
     ]
    }
   ],
   "source": [
    "beta, alpha, r_value, p_value, std_err = stats.linregress(stock_returns, mkt_returns)\n",
    "\n",
    "print beta, alpha, p_value"
   ]
  },
  {
   "cell_type": "markdown",
   "metadata": {},
   "source": [
    "So the $\\beta$ of the stock is $0.5077$.\n",
    "\n",
    "The equation describing the securities market line (SML) is\n",
    "\\begin{align}\n",
    "E(r_i) = r_f + \\beta_i [ E(r_m) - r_f]\n",
    "\\end{align}\n",
    "\n",
    "The following screen dump reminds us of the SML from class. Please notice the notation is slightly different.\n",
    "<img src=\"SML.png\">\n",
    "\n",
    "Therefore if we plug in some values on the right-hand side we get the expected return on the left-hand side. So assume $r_f=5\\%$ and the market risk premium is $[ E(r_m) - r_f] = 8.5\\%$ then the formula becomes\n",
    "\\begin{align}\n",
    "5 + 0.5077 \\times 8.5\\% = 9.3\\%\n",
    "\\end{align}\n",
    "where $0.5077 \\times 8.5 = 4.3\\%$ is the risk premium of an equity with $\\beta=0.5077$, and its expected return is $9.3\\%$.\n",
    "\n",
    "The following cell uses code to compute these outcomes."
   ]
  },
  {
   "cell_type": "code",
   "execution_count": 6,
   "metadata": {
    "collapsed": false
   },
   "outputs": [
    {
     "name": "stdout",
     "output_type": "stream",
     "text": [
      "0.0431581709696\n"
     ]
    }
   ],
   "source": [
    "\"\"\" Calculating the SML \"\"\"\n",
    "rf = 0.05\n",
    "mrisk_prem = 0.085\n",
    "risk_prem = mrisk_prem * beta\n",
    "print risk_prem"
   ]
  },
  {
   "cell_type": "code",
   "execution_count": 7,
   "metadata": {
    "collapsed": false
   },
   "outputs": [
    {
     "name": "stdout",
     "output_type": "stream",
     "text": [
      "0.0931581709696\n"
     ]
    }
   ],
   "source": [
    "expected_stock_return = rf + risk_prem\n",
    "print expected_stock_return"
   ]
  },
  {
   "cell_type": "markdown",
   "metadata": {
    "collapsed": true
   },
   "source": [
    "## Undervaluation and Overvaluation\n",
    "\n",
    "So the expected return is $9.3\\%$ but if it actually returned $10.5\\%$ we would say that the SML undervalues the stock, whereas if it actually returned $7\\%$ we would say the SML overvalues the security. So above the line is stocks are undervalued by the SML and below the line they are undervalued by the SML."
   ]
  }
 ],
 "metadata": {
  "kernelspec": {
   "display_name": "Python 2",
   "language": "python",
   "name": "python2"
  },
  "language_info": {
   "codemirror_mode": {
    "name": "ipython",
    "version": 2
   },
   "file_extension": ".py",
   "mimetype": "text/x-python",
   "name": "python",
   "nbconvert_exporter": "python",
   "pygments_lexer": "ipython2",
   "version": "2.7.6"
  }
 },
 "nbformat": 4,
 "nbformat_minor": 0
}
