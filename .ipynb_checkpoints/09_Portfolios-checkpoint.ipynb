{
 "cells": [
  {
   "cell_type": "markdown",
   "metadata": {},
   "source": [
    "# Notebook setup"
   ]
  },
  {
   "cell_type": "code",
   "execution_count": 2,
   "metadata": {},
   "outputs": [],
   "source": [
    "# various pandas, numpy\n",
    "import pandas as pd\n",
    "import numpy as np\n",
    "from pandas_datareader import data, wb\n",
    "# import pandas.io.data as web\n",
    "from datetime import datetime\n",
    "import scipy as sp\n",
    "import scipy.optimize as scopt\n",
    "import scipy.stats as spstats\n",
    "import matplotlib.mlab as mlab\n",
    "# plotting\n",
    "\n",
    "import matplotlib.pyplot as plt\n",
    "\n",
    "# make plots inline\n",
    "%matplotlib inline\n",
    "\n",
    "# formatting options\n",
    "pd.set_option('display.notebook_repr_html', False)\n",
    "pd.set_option('display.max_columns', 7)\n",
    "pd.set_option('display.max_rows', 10) \n",
    "pd.set_option('display.width', 82) \n",
    "pd.set_option('precision', 7)"
   ]
  },
  {
   "cell_type": "markdown",
   "metadata": {},
   "source": [
    "# Modelling of a portfolio with Python and pandas"
   ]
  },
  {
   "cell_type": "code",
   "execution_count": 3,
   "metadata": {},
   "outputs": [],
   "source": [
    "def create_portfolio(tickers, weights=None):\n",
    "    if weights is None: \n",
    "        shares = np.ones(len(tickers))/len(tickers)\n",
    "    portfolio = pd.DataFrame({'Tickers': tickers, \n",
    "                              'Weights': weights}, \n",
    "                             index=tickers)\n",
    "    return portfolio"
   ]
  },
  {
   "cell_type": "code",
   "execution_count": 4,
   "metadata": {},
   "outputs": [
    {
     "data": {
      "text/plain": [
       "         Tickers  Weights\n",
       "Stock A  Stock A        1\n",
       "Stock B  Stock B        1"
      ]
     },
     "execution_count": 4,
     "metadata": {},
     "output_type": "execute_result"
    }
   ],
   "source": [
    "portfolio = create_portfolio(['Stock A', 'Stock B'], [1, 1])\n",
    "portfolio"
   ]
  },
  {
   "cell_type": "code",
   "execution_count": 5,
   "metadata": {},
   "outputs": [
    {
     "data": {
      "text/plain": [
       "   Stock A  Stock B\n",
       "0     0.10    -0.15\n",
       "1     0.24    -0.20\n",
       "2     0.05    -0.01\n",
       "3    -0.02     0.04\n",
       "4     0.20    -0.15"
      ]
     },
     "execution_count": 5,
     "metadata": {},
     "output_type": "execute_result"
    }
   ],
   "source": [
    "returns = pd.DataFrame(\n",
    "        {'Stock A': [0.1, 0.24, 0.05, -0.02, 0.2],\n",
    "         'Stock B': [-0.15, -0.2, -0.01, 0.04, -0.15]})\n",
    "returns"
   ]
  },
  {
   "cell_type": "code",
   "execution_count": 6,
   "metadata": {},
   "outputs": [],
   "source": [
    "def calculate_weighted_portfolio_value(portfolio, \n",
    "                                       returns, \n",
    "                                       name='Value'):\n",
    "    total_weights = portfolio.Weights.sum()\n",
    "    weighted_returns = returns * (portfolio.Weights / \n",
    "                                  total_weights)\n",
    "    return pd.DataFrame({name: weighted_returns.sum(axis=1)})"
   ]
  },
  {
   "cell_type": "code",
   "execution_count": 7,
   "metadata": {},
   "outputs": [
    {
     "data": {
      "text/plain": [
       "   Stock A  Stock B  Value\n",
       "0     0.10    -0.15 -0.025\n",
       "1     0.24    -0.20  0.020\n",
       "2     0.05    -0.01  0.020\n",
       "3    -0.02     0.04  0.010\n",
       "4     0.20    -0.15  0.025"
      ]
     },
     "execution_count": 7,
     "metadata": {},
     "output_type": "execute_result"
    }
   ],
   "source": [
    "wr = calculate_weighted_portfolio_value(portfolio, \n",
    "                                        returns, \n",
    "                                        \"Value\")\n",
    "with_value = pd.concat([returns, wr], axis=1)\n",
    "with_value"
   ]
  },
  {
   "cell_type": "code",
   "execution_count": 8,
   "metadata": {},
   "outputs": [
    {
     "data": {
      "text/plain": [
       "Stock A    0.1066771\n",
       "Stock B    0.1031019\n",
       "Value      0.0203101\n",
       "dtype: float64"
      ]
     },
     "execution_count": 8,
     "metadata": {},
     "output_type": "execute_result"
    }
   ],
   "source": [
    "with_value.std()"
   ]
  },
  {
   "cell_type": "code",
   "execution_count": 9,
   "metadata": {},
   "outputs": [],
   "source": [
    "def plot_portfolio_returns(returns, title=None):\n",
    "    returns.plot(figsize=(12,8))\n",
    "    plt.xlabel('Year')\n",
    "    plt.ylabel('Returns')\n",
    "    if title is not None: plt.title(title)\n",
    "    plt.show()\n",
    "    plt.savefig('5104OS_09_02.png', dpi=300)"
   ]
  },
  {
   "cell_type": "code",
   "execution_count": 10,
   "metadata": {},
   "outputs": [
    {
     "data": {
      "image/png": "[encoded data removed]",
      "text/plain": [
       "<matplotlib.figure.Figure at 0x7f0726cacc90>"
      ]
     },
     "metadata": {},
     "output_type": "display_data"
    },
    {
     "data": {
      "text/plain": [
       "<matplotlib.figure.Figure at 0x7f071855c050>"
      ]
     },
     "metadata": {},
     "output_type": "display_data"
    }
   ],
   "source": [
    "plot_portfolio_returns(with_value)"
   ]
  },
  {
   "cell_type": "code",
   "execution_count": 11,
   "metadata": {},
   "outputs": [
    {
     "data": {
      "text/plain": [
       "           Stock A    Stock B\n",
       "Stock A  1.0000000 -0.9255716\n",
       "Stock B -0.9255716  1.0000000"
      ]
     },
     "execution_count": 11,
     "metadata": {},
     "output_type": "execute_result"
    }
   ],
   "source": [
    "returns.corr()"
   ]
  },
  {
   "cell_type": "markdown",
   "metadata": {},
   "source": [
    "# Computing an Efficient Portfolio"
   ]
  },
  {
   "cell_type": "markdown",
   "metadata": {},
   "source": [
    "## Gathering historical returns from Yahoo! Finance"
   ]
  },
  {
   "cell_type": "code",
   "execution_count": 17,
   "metadata": {},
   "outputs": [],
   "source": [
    "def get_historical_closes(ticker, start_date, end_date):\n",
    "    # get the data for the tickers.  This will be a panel\n",
    "    p = wb.DataReader(ticker, \"yahoo\", start_date, end_date)    \n",
    "    # convert the panel to a DataFrame and selection only Adj Close\n",
    "    # while making all index levels columns\n",
    "    d = p.to_frame()['Adj Close'].reset_index()\n",
    "    # rename the columns\n",
    "    d.rename(columns={'minor': 'Ticker', \n",
    "                      'Adj Close': 'Close'}, inplace=True)\n",
    "    # pivot each ticker to a column\n",
    "    pivoted = d.pivot(index='Date', columns='Ticker')\n",
    "    # and drop the one level on the columns\n",
    "    pivoted.columns = pivoted.columns.droplevel(0)\n",
    "    return pivoted\n",
    "\n",
    "wb.da"
   ]
  },
  {
   "cell_type": "code",
   "execution_count": 18,
   "metadata": {},
   "outputs": [
    {
     "ename": "AttributeError",
     "evalue": "'module' object has no attribute 'DataReader'",
     "output_type": "error",
     "traceback": [
      "\u001b[0;31m---------------------------------------------------------------------------\u001b[0m",
      "\u001b[0;31mAttributeError\u001b[0m                            Traceback (most recent call last)",
      "\u001b[0;32m<ipython-input-18-aa2c9a5448da>\u001b[0m in \u001b[0;36m<module>\u001b[0;34m()\u001b[0m\n\u001b[0;32m----> 1\u001b[0;31m \u001b[0mcloses\u001b[0m \u001b[0;34m=\u001b[0m \u001b[0mget_historical_closes\u001b[0m\u001b[0;34m(\u001b[0m\u001b[0;34m[\u001b[0m\u001b[0;34m'MSFT'\u001b[0m\u001b[0;34m,\u001b[0m \u001b[0;34m'AAPL'\u001b[0m\u001b[0;34m,\u001b[0m \u001b[0;34m'KO'\u001b[0m\u001b[0;34m]\u001b[0m\u001b[0;34m,\u001b[0m \u001b[0;34m'2010-01-01'\u001b[0m\u001b[0;34m,\u001b[0m \u001b[0;34m'2014-12-31'\u001b[0m\u001b[0;34m)\u001b[0m\u001b[0;34m\u001b[0m\u001b[0m\n\u001b[0m",
      "\u001b[0;32m<ipython-input-17-947b6a9b34c4>\u001b[0m in \u001b[0;36mget_historical_closes\u001b[0;34m(ticker, start_date, end_date)\u001b[0m\n\u001b[1;32m      1\u001b[0m \u001b[0;32mdef\u001b[0m \u001b[0mget_historical_closes\u001b[0m\u001b[0;34m(\u001b[0m\u001b[0mticker\u001b[0m\u001b[0;34m,\u001b[0m \u001b[0mstart_date\u001b[0m\u001b[0;34m,\u001b[0m \u001b[0mend_date\u001b[0m\u001b[0;34m)\u001b[0m\u001b[0;34m:\u001b[0m\u001b[0;34m\u001b[0m\u001b[0m\n\u001b[1;32m      2\u001b[0m     \u001b[0;31m# get the data for the tickers.  This will be a panel\u001b[0m\u001b[0;34m\u001b[0m\u001b[0;34m\u001b[0m\u001b[0m\n\u001b[0;32m----> 3\u001b[0;31m     \u001b[0mp\u001b[0m \u001b[0;34m=\u001b[0m \u001b[0mwb\u001b[0m\u001b[0;34m.\u001b[0m\u001b[0mDataReader\u001b[0m\u001b[0;34m(\u001b[0m\u001b[0mticker\u001b[0m\u001b[0;34m,\u001b[0m \u001b[0;34m\"yahoo\"\u001b[0m\u001b[0;34m,\u001b[0m \u001b[0mstart_date\u001b[0m\u001b[0;34m,\u001b[0m \u001b[0mend_date\u001b[0m\u001b[0;34m)\u001b[0m\u001b[0;34m\u001b[0m\u001b[0m\n\u001b[0m\u001b[1;32m      4\u001b[0m     \u001b[0;31m# convert the panel to a DataFrame and selection only Adj Close\u001b[0m\u001b[0;34m\u001b[0m\u001b[0;34m\u001b[0m\u001b[0m\n\u001b[1;32m      5\u001b[0m     \u001b[0;31m# while making all index levels columns\u001b[0m\u001b[0;34m\u001b[0m\u001b[0;34m\u001b[0m\u001b[0m\n",
      "\u001b[0;31mAttributeError\u001b[0m: 'module' object has no attribute 'DataReader'"
     ]
    }
   ],
   "source": [
    "closes = get_historical_closes(['MSFT', 'AAPL', 'KO'], '2010-01-01', '2014-12-31')"
   ]
  },
  {
   "cell_type": "code",
   "execution_count": 14,
   "metadata": {},
   "outputs": [
    {
     "ename": "NameError",
     "evalue": "name 'closes' is not defined",
     "output_type": "error",
     "traceback": [
      "\u001b[0;31m---------------------------------------------------------------------------\u001b[0m",
      "\u001b[0;31mNameError\u001b[0m                                 Traceback (most recent call last)",
      "\u001b[0;32m<ipython-input-14-281488b95ba6>\u001b[0m in \u001b[0;36m<module>\u001b[0;34m()\u001b[0m\n\u001b[0;32m----> 1\u001b[0;31m \u001b[0mcloses\u001b[0m\u001b[0;34m[\u001b[0m\u001b[0;34m:\u001b[0m\u001b[0;36m5\u001b[0m\u001b[0;34m]\u001b[0m\u001b[0;34m\u001b[0m\u001b[0m\n\u001b[0m",
      "\u001b[0;31mNameError\u001b[0m: name 'closes' is not defined"
     ]
    }
   ],
   "source": [
    "closes[:5]"
   ]
  },
  {
   "cell_type": "code",
   "execution_count": null,
   "metadata": {},
   "outputs": [],
   "source": [
    "def calc_daily_returns(closes):\n",
    "    return np.log(closes/closes.shift(1))"
   ]
  },
  {
   "cell_type": "code",
   "execution_count": null,
   "metadata": {},
   "outputs": [],
   "source": [
    "# calculate daily returns\n",
    "daily_returns = calc_daily_returns(closes)\n",
    "daily_returns[:5]"
   ]
  },
  {
   "cell_type": "code",
   "execution_count": null,
   "metadata": {},
   "outputs": [],
   "source": [
    "# calculate annual returns\n",
    "def calc_annual_returns(daily_returns):\n",
    "    grouped = np.exp(daily_returns.groupby(\n",
    "        lambda date: date.year).sum())-1\n",
    "    return grouped"
   ]
  },
  {
   "cell_type": "code",
   "execution_count": null,
   "metadata": {},
   "outputs": [],
   "source": [
    "annual_returns = calc_annual_returns(daily_returns)\n",
    "annual_returns"
   ]
  },
  {
   "cell_type": "markdown",
   "metadata": {},
   "source": [
    "## Weighted variance co-variance calculation"
   ]
  },
  {
   "cell_type": "code",
   "execution_count": null,
   "metadata": {},
   "outputs": [],
   "source": [
    "def calc_portfolio_var(returns, weights=None):\n",
    "    if weights is None: \n",
    "        weights = np.ones(returns.columns.size) / \\\n",
    "        returns.columns.size\n",
    "    sigma = np.cov(returns.T,ddof=0)\n",
    "    var = (weights * sigma * weights.T).sum()\n",
    "    return var"
   ]
  },
  {
   "cell_type": "code",
   "execution_count": null,
   "metadata": {},
   "outputs": [],
   "source": [
    "# calculate our portfolio variance (equal weighted)\n",
    "calc_portfolio_var(annual_returns)"
   ]
  },
  {
   "cell_type": "markdown",
   "metadata": {},
   "source": [
    "## The Sharpe Ratio"
   ]
  },
  {
   "cell_type": "code",
   "execution_count": null,
   "metadata": {},
   "outputs": [],
   "source": [
    "def sharpe_ratio(returns, weights = None, risk_free_rate = 0.015):\n",
    "    n = returns.columns.size\n",
    "    if weights is None: weights = np.ones(n)/n\n",
    "    # get the portfolio variance\n",
    "    var = calc_portfolio_var(returns, weights)\n",
    "    # and the means of the stocks in the portfolio\n",
    "    means = returns.mean()\n",
    "    # and return the sharpe ratio\n",
    "    return (means.dot(weights) - risk_free_rate)/np.sqrt(var)"
   ]
  },
  {
   "cell_type": "code",
   "execution_count": null,
   "metadata": {},
   "outputs": [],
   "source": [
    "# calculate equal weighted sharpe ratio\n",
    "sharpe_ratio(annual_returns)"
   ]
  },
  {
   "cell_type": "markdown",
   "metadata": {},
   "source": [
    "## Optimization and minimization"
   ]
  },
  {
   "cell_type": "code",
   "execution_count": null,
   "metadata": {},
   "outputs": [],
   "source": [
    "# function to minimize\n",
    "def y_f(x): return 2+x**2"
   ]
  },
  {
   "cell_type": "code",
   "execution_count": null,
   "metadata": {},
   "outputs": [],
   "source": [
    "scopt.fmin(y_f, 1000)"
   ]
  },
  {
   "cell_type": "markdown",
   "metadata": {},
   "source": [
    "## Constructing an optimal portfolio "
   ]
  },
  {
   "cell_type": "code",
   "execution_count": null,
   "metadata": {},
   "outputs": [],
   "source": [
    "def negative_sharpe_ratio_n_minus_1_stock(weights, \n",
    "                                          returns, \n",
    "                                          risk_free_rate):\n",
    "    \"\"\"\n",
    "    Given n-1 weights, return a negative sharpe ratio\n",
    "    \"\"\"\n",
    "    weights2 = sp.append(weights, 1-np.sum(weights))\n",
    "    return -sharpe_ratio(returns, weights2, risk_free_rate)"
   ]
  },
  {
   "cell_type": "code",
   "execution_count": null,
   "metadata": {},
   "outputs": [],
   "source": [
    "def optimize_portfolio(returns, risk_free_rate):\n",
    "    \"\"\" \n",
    "    Performs the optimization\n",
    "    \"\"\"\n",
    "    # start with equal weights\n",
    "    w0 = np.ones(returns.columns.size-1, \n",
    "                 dtype=float) * 1.0 / returns.columns.size\n",
    "    # minimize the negative sharpe value\n",
    "    w1 = scopt.fmin(negative_sharpe_ratio_n_minus_1_stock, \n",
    "                    w0, args=(returns, risk_free_rate))\n",
    "    # build final set of weights\n",
    "    final_w = sp.append(w1, 1 - np.sum(w1))\n",
    "    # and calculate the final, optimized, sharpe ratio\n",
    "    final_sharpe = sharpe_ratio(returns, final_w, risk_free_rate)\n",
    "    return (final_w, final_sharpe)"
   ]
  },
  {
   "cell_type": "code",
   "execution_count": null,
   "metadata": {},
   "outputs": [],
   "source": [
    "# optimize our portfolio\n",
    "optimize_portfolio(annual_returns, 0.0003)"
   ]
  },
  {
   "cell_type": "markdown",
   "metadata": {},
   "source": [
    "# Visualizing the Efficient Frontier"
   ]
  },
  {
   "cell_type": "code",
   "execution_count": null,
   "metadata": {},
   "outputs": [],
   "source": [
    "def objfun(W, R, target_ret):\n",
    "    stock_mean = np.mean(R,axis=0)\n",
    "    port_mean = np.dot(W,stock_mean) # portfolio mean\n",
    "    cov=np.cov(R.T) # var-cov matrix\n",
    "    port_var = np.dot(np.dot(W,cov),W.T) # portfolio variance\n",
    "    penalty = 2000*abs(port_mean-target_ret)# penalty 4 deviation\n",
    "    return np.sqrt(port_var) + penalty # objective function"
   ]
  },
  {
   "cell_type": "code",
   "execution_count": null,
   "metadata": {},
   "outputs": [],
   "source": [
    "def calc_efficient_frontier(returns):\n",
    "    result_means = []\n",
    "    result_stds = []\n",
    "    result_weights = []\n",
    "    \n",
    "    means = returns.mean()\n",
    "    min_mean, max_mean = means.min(), means.max()\n",
    "    \n",
    "    nstocks = returns.columns.size\n",
    "    \n",
    "    for r in np.linspace(min_mean, max_mean, 100):\n",
    "        weights = np.ones(nstocks)/nstocks\n",
    "        bounds = [(0,1) for i in np.arange(nstocks)]\n",
    "        constraints = ({'type': 'eq', \n",
    "                        'fun': lambda W: np.sum(W) - 1})\n",
    "        results = scopt.minimize(objfun, weights, (returns, r), \n",
    "                                 method='SLSQP', \n",
    "                                 constraints = constraints,\n",
    "                                 bounds = bounds)\n",
    "        if not results.success: # handle error\n",
    "            raise Exception(result.message)\n",
    "        result_means.append(np.round(r,4)) # 4 decimal places\n",
    "        std_=np.round(np.std(np.sum(returns*results.x,axis=1)),6)\n",
    "        result_stds.append(std_)\n",
    "        \n",
    "        result_weights.append(np.round(results.x, 5))\n",
    "    return {'Means': result_means, \n",
    "            'Stds': result_stds, \n",
    "            'Weights': result_weights}"
   ]
  },
  {
   "cell_type": "code",
   "execution_count": null,
   "metadata": {},
   "outputs": [],
   "source": [
    "# calculate our frontier\n",
    "frontier_data = calc_efficient_frontier(annual_returns)"
   ]
  },
  {
   "cell_type": "code",
   "execution_count": null,
   "metadata": {},
   "outputs": [],
   "source": [
    "# first five risk levels\n",
    "frontier_data['Stds'][:5]"
   ]
  },
  {
   "cell_type": "code",
   "execution_count": null,
   "metadata": {},
   "outputs": [],
   "source": [
    "# first five mean returns\n",
    "frontier_data['Means'][:5]"
   ]
  },
  {
   "cell_type": "code",
   "execution_count": null,
   "metadata": {},
   "outputs": [],
   "source": [
    "# first five sets of optimal weights\n",
    "frontier_data['Weights'][:5]"
   ]
  },
  {
   "cell_type": "code",
   "execution_count": null,
   "metadata": {},
   "outputs": [],
   "source": [
    "def plot_efficient_frontier(frontier_data):\n",
    "    plt.figure(figsize=(12,8))\n",
    "    plt.title('Efficient Frontier')\n",
    "    plt.xlabel('Standard Deviation of the porfolio (Risk))')\n",
    "    plt.ylabel('Return of the portfolio')\n",
    "    plt.plot(frontier_data['Stds'], frontier_data['Means'], '--'); \n",
    "    plt.savefig('5104OS_09_20.png', bbox_inches='tight', dpi=300)"
   ]
  },
  {
   "cell_type": "code",
   "execution_count": null,
   "metadata": {},
   "outputs": [],
   "source": [
    "plot_efficient_frontier(frontier_data)"
   ]
  },
  {
   "cell_type": "markdown",
   "metadata": {},
   "source": [
    "# Value At Risk"
   ]
  },
  {
   "cell_type": "code",
   "execution_count": null,
   "metadata": {},
   "outputs": [],
   "source": [
    "# get adjusted close values for AAPL in 2014\n",
    "aapl_closes = get_historical_closes(['AAPL'], \n",
    "                                    datetime(2014, 1, 1),\n",
    "                                    datetime(2014, 12, 31))\n",
    "aapl_closes[:5]"
   ]
  },
  {
   "cell_type": "code",
   "execution_count": null,
   "metadata": {},
   "outputs": [],
   "source": [
    "# now convert the daily prices to returns\n",
    "returns = calc_daily_returns(aapl_closes)\n",
    "returns[:5]"
   ]
  },
  {
   "cell_type": "code",
   "execution_count": null,
   "metadata": {},
   "outputs": [],
   "source": [
    "# plot the histogram of returns\n",
    "plt.figure(figsize=(12,8))\n",
    "plt.hist(returns.values[1:], bins=100);\n",
    "plt.savefig('5104OS_09_23.png', bbox_inches='tight', dpi=300)"
   ]
  },
  {
   "cell_type": "code",
   "execution_count": null,
   "metadata": {},
   "outputs": [],
   "source": [
    "# get the z-score for 95%\n",
    "z = spstats.norm.ppf(0.95)\n",
    "z"
   ]
  },
  {
   "cell_type": "code",
   "execution_count": null,
   "metadata": {},
   "outputs": [],
   "source": [
    "# our position is 1000 shares of AAPL at the price\n",
    "# on 2014-22-31\n",
    "position = 1000 * aapl_closes.ix['2014-12-31'].AAPL\n",
    "position"
   ]
  },
  {
   "cell_type": "code",
   "execution_count": null,
   "metadata": {},
   "outputs": [],
   "source": [
    "# what is our VaR\n",
    "VaR = position * (z * returns.AAPL.std())\n",
    "VaR"
   ]
  },
  {
   "cell_type": "markdown",
   "metadata": {},
   "source": [
    "# Misc"
   ]
  },
  {
   "cell_type": "code",
   "execution_count": null,
   "metadata": {},
   "outputs": [],
   "source": [
    "# draw a 99% one-tail confidence interval\n",
    "x = np.linspace(-4,4,101)\n",
    "y = np.exp(-x**2/2) / np.sqrt(2*np.pi)\n",
    "x2 = np.linspace(-4,-2.33,101)\n",
    "y2 = np.exp(-x2**2/2) / np.sqrt(2*np.pi)\n",
    "f = plt.figure(figsize=(12,8))\n",
    "plt.plot(x,y*100, linewidth=2)\n",
    "xf, yf = mlab.poly_between(x2, 0*x2, y2*100)\n",
    "plt.fill(xf, yf, facecolor='g', alpha=0.5)\n",
    "plt.gca().set_xlabel('z-score')\n",
    "plt.gca().set_ylabel('Frequency %')\n",
    "plt.title(\"VaR based on the standard normal distribution\")\n",
    "bbox_props = dict(boxstyle=\"rarrow,pad=0.3\", fc=\"w\", ec=\"b\", lw=2)\n",
    "t = f.text(0.25, 0.35, \"99% VaR confidence level\", ha=\"center\", va=\"center\", \n",
    "           rotation=270,\n",
    "            size=15,\n",
    "            bbox=bbox_props)\n",
    "plt.savefig('5104OS_09_21.png', bbox_inches='tight', dpi=300)"
   ]
  }
 ],
 "metadata": {
  "kernelspec": {
   "display_name": "Python 2",
   "language": "python",
   "name": "python2"
  },
  "language_info": {
   "codemirror_mode": {
    "name": "ipython",
    "version": 2
   },
   "file_extension": ".py",
   "mimetype": "text/x-python",
   "name": "python",
   "nbconvert_exporter": "python",
   "pygments_lexer": "ipython2",
   "version": "2.7.13"
  }
 },
 "nbformat": 4,
 "nbformat_minor": 1
}
