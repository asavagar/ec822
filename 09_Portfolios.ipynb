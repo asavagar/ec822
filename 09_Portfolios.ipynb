{
 "cells": [
  {
   "cell_type": "markdown",
   "metadata": {},
   "source": [
    "# Notebook setup"
   ]
  },
  {
   "cell_type": "code",
   "execution_count": 1,
   "metadata": {
    "collapsed": false
   },
   "outputs": [
    {
     "name": "stderr",
     "output_type": "stream",
     "text": [
      "/usr/local/lib/python2.7/dist-packages/pandas/io/data.py:35: FutureWarning: \n",
      "The pandas.io.data module is moved to a separate package (pandas-datareader) and will be removed from pandas in a future version.\n",
      "After installing the pandas-datareader package (https://github.com/pydata/pandas-datareader), you can change the import ``from pandas.io import data, wb`` to ``from pandas_datareader import data, wb``.\n",
      "  FutureWarning)\n",
      "/usr/local/lib/python2.7/dist-packages/matplotlib/font_manager.py:273: UserWarning: Matplotlib is building the font cache using fc-list. This may take a moment.\n",
      "  warnings.warn('Matplotlib is building the font cache using fc-list. This may take a moment.')\n"
     ]
    }
   ],
   "source": [
    "# various pandas, numpy\n",
    "import pandas as pd\n",
    "import numpy as np\n",
    "import pandas.io.data as web\n",
    "from datetime import datetime\n",
    "import scipy as sp\n",
    "import scipy.optimize as scopt\n",
    "import scipy.stats as spstats\n",
    "import matplotlib.mlab as mlab\n",
    "# plotting\n",
    "\n",
    "import matplotlib.pyplot as plt\n",
    "\n",
    "# make plots inline\n",
    "%matplotlib inline\n",
    "\n",
    "# formatting options\n",
    "pd.set_option('display.notebook_repr_html', False)\n",
    "pd.set_option('display.max_columns', 7)\n",
    "pd.set_option('display.max_rows', 10) \n",
    "pd.set_option('display.width', 82) \n",
    "pd.set_option('precision', 7)"
   ]
  },
  {
   "cell_type": "markdown",
   "metadata": {},
   "source": [
    "# Modelling of a portfolio with Python and pandas"
   ]
  },
  {
   "cell_type": "code",
   "execution_count": 2,
   "metadata": {
    "collapsed": false
   },
   "outputs": [],
   "source": [
    "def create_portfolio(tickers, weights=None):\n",
    "    if weights is None: \n",
    "        shares = np.ones(len(tickers))/len(tickers)\n",
    "    portfolio = pd.DataFrame({'Tickers': tickers, \n",
    "                              'Weights': weights}, \n",
    "                             index=tickers)\n",
    "    return portfolio"
   ]
  },
  {
   "cell_type": "code",
   "execution_count": 3,
   "metadata": {
    "collapsed": false
   },
   "outputs": [
    {
     "data": {
      "text/plain": [
       "         Tickers  Weights\n",
       "Stock A  Stock A        1\n",
       "Stock B  Stock B        1"
      ]
     },
     "execution_count": 3,
     "metadata": {},
     "output_type": "execute_result"
    }
   ],
   "source": [
    "portfolio = create_portfolio(['Stock A', 'Stock B'], [1, 1])\n",
    "portfolio"
   ]
  },
  {
   "cell_type": "code",
   "execution_count": 4,
   "metadata": {
    "collapsed": false
   },
   "outputs": [
    {
     "data": {
      "text/plain": [
       "   Stock A  Stock B\n",
       "0     0.10    -0.15\n",
       "1     0.24    -0.20\n",
       "2     0.05    -0.01\n",
       "3    -0.02     0.04\n",
       "4     0.20    -0.15"
      ]
     },
     "execution_count": 4,
     "metadata": {},
     "output_type": "execute_result"
    }
   ],
   "source": [
    "returns = pd.DataFrame(\n",
    "        {'Stock A': [0.1, 0.24, 0.05, -0.02, 0.2],\n",
    "         'Stock B': [-0.15, -0.2, -0.01, 0.04, -0.15]})\n",
    "returns"
   ]
  },
  {
   "cell_type": "code",
   "execution_count": 5,
   "metadata": {
    "collapsed": false
   },
   "outputs": [],
   "source": [
    "def calculate_weighted_portfolio_value(portfolio, \n",
    "                                       returns, \n",
    "                                       name='Value'):\n",
    "    total_weights = portfolio.Weights.sum()\n",
    "    weighted_returns = returns * (portfolio.Weights / \n",
    "                                  total_weights)\n",
    "    return pd.DataFrame({name: weighted_returns.sum(axis=1)})"
   ]
  },
  {
   "cell_type": "code",
   "execution_count": 6,
   "metadata": {
    "collapsed": false
   },
   "outputs": [
    {
     "data": {
      "text/plain": [
       "   Stock A  Stock B  Value\n",
       "0     0.10    -0.15 -0.025\n",
       "1     0.24    -0.20  0.020\n",
       "2     0.05    -0.01  0.020\n",
       "3    -0.02     0.04  0.010\n",
       "4     0.20    -0.15  0.025"
      ]
     },
     "execution_count": 6,
     "metadata": {},
     "output_type": "execute_result"
    }
   ],
   "source": [
    "wr = calculate_weighted_portfolio_value(portfolio, \n",
    "                                        returns, \n",
    "                                        \"Value\")\n",
    "with_value = pd.concat([returns, wr], axis=1)\n",
    "with_value"
   ]
  },
  {
   "cell_type": "code",
   "execution_count": 7,
   "metadata": {
    "collapsed": false
   },
   "outputs": [
    {
     "data": {
      "text/plain": [
       "Stock A    0.1066771\n",
       "Stock B    0.1031019\n",
       "Value      0.0203101\n",
       "dtype: float64"
      ]
     },
     "execution_count": 7,
     "metadata": {},
     "output_type": "execute_result"
    }
   ],
   "source": [
    "with_value.std()"
   ]
  },
  {
   "cell_type": "code",
   "execution_count": 8,
   "metadata": {
    "collapsed": false
   },
   "outputs": [],
   "source": [
    "def plot_portfolio_returns(returns, title=None):\n",
    "    returns.plot(figsize=(12,8))\n",
    "    plt.xlabel('Year')\n",
    "    plt.ylabel('Returns')\n",
    "    if title is not None: plt.title(title)\n",
    "    plt.show()\n",
    "    plt.savefig('5104OS_09_02.png', dpi=300)"
   ]
  },
  {
   "cell_type": "code",
   "execution_count": 9,
   "metadata": {
    "collapsed": false
   },
   "outputs": [
    {
     "data": {
      "image/png": "[encoded data removed]",
      "text/plain": [
       "<matplotlib.figure.Figure at 0xad1697ac>"
      ]
     },
     "metadata": {},
     "output_type": "display_data"
    },
    {
     "data": {
      "text/plain": [
       "<matplotlib.figure.Figure at 0xad16954c>"
      ]
     },
     "metadata": {},
     "output_type": "display_data"
    }
   ],
   "source": [
    "plot_portfolio_returns(with_value)"
   ]
  },
  {
   "cell_type": "code",
   "execution_count": 10,
   "metadata": {
    "collapsed": false
   },
   "outputs": [
    {
     "data": {
      "text/plain": [
       "           Stock A    Stock B\n",
       "Stock A  1.0000000 -0.9255716\n",
       "Stock B -0.9255716  1.0000000"
      ]
     },
     "execution_count": 10,
     "metadata": {},
     "output_type": "execute_result"
    }
   ],
   "source": [
    "returns.corr()"
   ]
  },
  {
   "cell_type": "markdown",
   "metadata": {},
   "source": [
    "# Computing an Efficient Portfolio"
   ]
  },
  {
   "cell_type": "markdown",
   "metadata": {},
   "source": [
    "## Gathering historical returns from Yahoo! Finance"
   ]
  },
  {
   "cell_type": "code",
   "execution_count": 11,
   "metadata": {
    "collapsed": false
   },
   "outputs": [],
   "source": [
    "def get_historical_closes(ticker, start_date, end_date):\n",
    "    # get the data for the tickers.  This will be a panel\n",
    "    p = web.DataReader(ticker, \"yahoo\", start_date, end_date)    \n",
    "    # convert the panel to a DataFrame and selection only Adj Close\n",
    "    # while making all index levels columns\n",
    "    d = p.to_frame()['Adj Close'].reset_index()\n",
    "    # rename the columns\n",
    "    d.rename(columns={'minor': 'Ticker', \n",
    "                      'Adj Close': 'Close'}, inplace=True)\n",
    "    # pivot each ticker to a column\n",
    "    pivoted = d.pivot(index='Date', columns='Ticker')\n",
    "    # and drop the one level on the columns\n",
    "    pivoted.columns = pivoted.columns.droplevel(0)\n",
    "    return pivoted"
   ]
  },
  {
   "cell_type": "code",
   "execution_count": 12,
   "metadata": {
    "collapsed": false
   },
   "outputs": [],
   "source": [
    "closes = get_historical_closes(['MSFT', 'AAPL', 'KO'], '2010-01-01', '2014-12-31')"
   ]
  },
  {
   "cell_type": "code",
   "execution_count": 13,
   "metadata": {
    "collapsed": false
   },
   "outputs": [
    {
     "data": {
      "text/plain": [
       "Ticker           AAPL         KO       MSFT\n",
       "Date                                       \n",
       "2010-01-04  27.847252  23.318762  25.884104\n",
       "2010-01-05  27.895396  23.036679  25.892466\n",
       "2010-01-06  27.451683  23.028504  25.733566\n",
       "2010-01-07  27.400936  22.971269  25.465944\n",
       "2010-01-08  27.583106  22.546103  25.641571"
      ]
     },
     "execution_count": 13,
     "metadata": {},
     "output_type": "execute_result"
    }
   ],
   "source": [
    "closes[:5]"
   ]
  },
  {
   "cell_type": "code",
   "execution_count": 14,
   "metadata": {
    "collapsed": false
   },
   "outputs": [],
   "source": [
    "def calc_daily_returns(closes):\n",
    "    return np.log(closes/closes.shift(1))"
   ]
  },
  {
   "cell_type": "code",
   "execution_count": 15,
   "metadata": {
    "collapsed": false
   },
   "outputs": [
    {
     "data": {
      "text/plain": [
       "Ticker           AAPL         KO       MSFT\n",
       "Date                                       \n",
       "2010-01-04        NaN        NaN        NaN\n",
       "2010-01-05  0.0017274 -0.0121706  0.0003230\n",
       "2010-01-06 -0.0160342 -0.0003549 -0.0061558\n",
       "2010-01-07 -0.0018503 -0.0024885 -0.0104542\n",
       "2010-01-08  0.0066263 -0.0186820  0.0068729"
      ]
     },
     "execution_count": 15,
     "metadata": {},
     "output_type": "execute_result"
    }
   ],
   "source": [
    "# calculate daily returns\n",
    "daily_returns = calc_daily_returns(closes)\n",
    "daily_returns[:5]"
   ]
  },
  {
   "cell_type": "code",
   "execution_count": 16,
   "metadata": {
    "collapsed": false
   },
   "outputs": [],
   "source": [
    "# calculate annual returns\n",
    "def calc_annual_returns(daily_returns):\n",
    "    grouped = np.exp(daily_returns.groupby(\n",
    "        lambda date: date.year).sum())-1\n",
    "    return grouped"
   ]
  },
  {
   "cell_type": "code",
   "execution_count": 17,
   "metadata": {
    "collapsed": false
   },
   "outputs": [
    {
     "data": {
      "text/plain": [
       "Ticker       AAPL         KO       MSFT\n",
       "2010    0.5072193  0.1893663 -0.0794414\n",
       "2011    0.2555803  0.0945863 -0.0451566\n",
       "2012    0.3256690  0.0652759  0.0579886\n",
       "2013    0.0806948  0.1723302  0.4429798\n",
       "2014    0.4062250  0.0526609  0.2756461"
      ]
     },
     "execution_count": 17,
     "metadata": {},
     "output_type": "execute_result"
    }
   ],
   "source": [
    "annual_returns = calc_annual_returns(daily_returns)\n",
    "annual_returns"
   ]
  },
  {
   "cell_type": "markdown",
   "metadata": {},
   "source": [
    "## Weighted variance co-variance calculation"
   ]
  },
  {
   "cell_type": "code",
   "execution_count": 18,
   "metadata": {
    "collapsed": false
   },
   "outputs": [],
   "source": [
    "def calc_portfolio_var(returns, weights=None):\n",
    "    if weights is None: \n",
    "        weights = np.ones(returns.columns.size) / \\\n",
    "        returns.columns.size\n",
    "    sigma = np.cov(returns.T,ddof=0)\n",
    "    var = (weights * sigma * weights.T).sum()\n",
    "    return var"
   ]
  },
  {
   "cell_type": "code",
   "execution_count": 19,
   "metadata": {
    "collapsed": false
   },
   "outputs": [
    {
     "data": {
      "text/plain": [
       "0.0028795407955846965"
      ]
     },
     "execution_count": 19,
     "metadata": {},
     "output_type": "execute_result"
    }
   ],
   "source": [
    "# calculate our portfolio variance (equal weighted)\n",
    "calc_portfolio_var(annual_returns)"
   ]
  },
  {
   "cell_type": "markdown",
   "metadata": {},
   "source": [
    "## The Sharpe Ratio"
   ]
  },
  {
   "cell_type": "code",
   "execution_count": 20,
   "metadata": {
    "collapsed": false
   },
   "outputs": [],
   "source": [
    "def sharpe_ratio(returns, weights = None, risk_free_rate = 0.015):\n",
    "    n = returns.columns.size\n",
    "    if weights is None: weights = np.ones(n)/n\n",
    "    # get the portfolio variance\n",
    "    var = calc_portfolio_var(returns, weights)\n",
    "    # and the means of the stocks in the portfolio\n",
    "    means = returns.mean()\n",
    "    # and return the sharpe ratio\n",
    "    return (means.dot(weights) - risk_free_rate)/np.sqrt(var)"
   ]
  },
  {
   "cell_type": "code",
   "execution_count": 21,
   "metadata": {
    "collapsed": false
   },
   "outputs": [
    {
     "data": {
      "text/plain": [
       "3.2010928229213982"
      ]
     },
     "execution_count": 21,
     "metadata": {},
     "output_type": "execute_result"
    }
   ],
   "source": [
    "# calculate equal weighted sharpe ratio\n",
    "sharpe_ratio(annual_returns)"
   ]
  },
  {
   "cell_type": "markdown",
   "metadata": {},
   "source": [
    "## Optimization and minimization"
   ]
  },
  {
   "cell_type": "code",
   "execution_count": 22,
   "metadata": {
    "collapsed": false
   },
   "outputs": [],
   "source": [
    "# function to minimize\n",
    "def y_f(x): return 2+x**2"
   ]
  },
  {
   "cell_type": "code",
   "execution_count": 23,
   "metadata": {
    "collapsed": false
   },
   "outputs": [
    {
     "name": "stdout",
     "output_type": "stream",
     "text": [
      "Optimization terminated successfully.\n",
      "         Current function value: 2.000000\n",
      "         Iterations: 27\n",
      "         Function evaluations: 54\n"
     ]
    },
    {
     "data": {
      "text/plain": [
       "array([ 0.])"
      ]
     },
     "execution_count": 23,
     "metadata": {},
     "output_type": "execute_result"
    }
   ],
   "source": [
    "scopt.fmin(y_f, 1000)"
   ]
  },
  {
   "cell_type": "markdown",
   "metadata": {},
   "source": [
    "## Constructing an optimal portfolio "
   ]
  },
  {
   "cell_type": "code",
   "execution_count": 24,
   "metadata": {
    "collapsed": false
   },
   "outputs": [],
   "source": [
    "def negative_sharpe_ratio_n_minus_1_stock(weights, \n",
    "                                          returns, \n",
    "                                          risk_free_rate):\n",
    "    \"\"\"\n",
    "    Given n-1 weights, return a negative sharpe ratio\n",
    "    \"\"\"\n",
    "    weights2 = sp.append(weights, 1-np.sum(weights))\n",
    "    return -sharpe_ratio(returns, weights2, risk_free_rate)"
   ]
  },
  {
   "cell_type": "code",
   "execution_count": 25,
   "metadata": {
    "collapsed": false
   },
   "outputs": [],
   "source": [
    "def optimize_portfolio(returns, risk_free_rate):\n",
    "    \"\"\" \n",
    "    Performs the optimization\n",
    "    \"\"\"\n",
    "    # start with equal weights\n",
    "    w0 = np.ones(returns.columns.size-1, \n",
    "                 dtype=float) * 1.0 / returns.columns.size\n",
    "    # minimize the negative sharpe value\n",
    "    w1 = scopt.fmin(negative_sharpe_ratio_n_minus_1_stock, \n",
    "                    w0, args=(returns, risk_free_rate))\n",
    "    # build final set of weights\n",
    "    final_w = sp.append(w1, 1 - np.sum(w1))\n",
    "    # and calculate the final, optimized, sharpe ratio\n",
    "    final_sharpe = sharpe_ratio(returns, final_w, risk_free_rate)\n",
    "    return (final_w, final_sharpe)"
   ]
  },
  {
   "cell_type": "code",
   "execution_count": 26,
   "metadata": {
    "collapsed": false
   },
   "outputs": [
    {
     "name": "stdout",
     "output_type": "stream",
     "text": [
      "Optimization terminated successfully.\n",
      "         Current function value: -7.829861\n",
      "         Iterations: 46\n",
      "         Function evaluations: 89\n"
     ]
    },
    {
     "data": {
      "text/plain": [
       "(array([ 0.76353353,  0.2103234 ,  0.02614307]), 7.8298611572216874)"
      ]
     },
     "execution_count": 26,
     "metadata": {},
     "output_type": "execute_result"
    }
   ],
   "source": [
    "# optimize our portfolio\n",
    "optimize_portfolio(annual_returns, 0.0003)"
   ]
  },
  {
   "cell_type": "markdown",
   "metadata": {},
   "source": [
    "# Visualizing the Efficient Frontier"
   ]
  },
  {
   "cell_type": "code",
   "execution_count": 27,
   "metadata": {
    "collapsed": false
   },
   "outputs": [],
   "source": [
    "def objfun(W, R, target_ret):\n",
    "    stock_mean = np.mean(R,axis=0)\n",
    "    port_mean = np.dot(W,stock_mean) # portfolio mean\n",
    "    cov=np.cov(R.T) # var-cov matrix\n",
    "    port_var = np.dot(np.dot(W,cov),W.T) # portfolio variance\n",
    "    penalty = 2000*abs(port_mean-target_ret)# penalty 4 deviation\n",
    "    return np.sqrt(port_var) + penalty # objective function"
   ]
  },
  {
   "cell_type": "code",
   "execution_count": 28,
   "metadata": {
    "collapsed": false
   },
   "outputs": [],
   "source": [
    "def calc_efficient_frontier(returns):\n",
    "    result_means = []\n",
    "    result_stds = []\n",
    "    result_weights = []\n",
    "    \n",
    "    means = returns.mean()\n",
    "    min_mean, max_mean = means.min(), means.max()\n",
    "    \n",
    "    nstocks = returns.columns.size\n",
    "    \n",
    "    for r in np.linspace(min_mean, max_mean, 100):\n",
    "        weights = np.ones(nstocks)/nstocks\n",
    "        bounds = [(0,1) for i in np.arange(nstocks)]\n",
    "        constraints = ({'type': 'eq', \n",
    "                        'fun': lambda W: np.sum(W) - 1})\n",
    "        results = scopt.minimize(objfun, weights, (returns, r), \n",
    "                                 method='SLSQP', \n",
    "                                 constraints = constraints,\n",
    "                                 bounds = bounds)\n",
    "        if not results.success: # handle error\n",
    "            raise Exception(result.message)\n",
    "        result_means.append(np.round(r,4)) # 4 decimal places\n",
    "        std_=np.round(np.std(np.sum(returns*results.x,axis=1)),6)\n",
    "        result_stds.append(std_)\n",
    "        \n",
    "        result_weights.append(np.round(results.x, 5))\n",
    "    return {'Means': result_means, \n",
    "            'Stds': result_stds, \n",
    "            'Weights': result_weights}"
   ]
  },
  {
   "cell_type": "code",
   "execution_count": 29,
   "metadata": {
    "collapsed": false
   },
   "outputs": [],
   "source": [
    "# calculate our frontier\n",
    "frontier_data = calc_efficient_frontier(annual_returns)"
   ]
  },
  {
   "cell_type": "code",
   "execution_count": 30,
   "metadata": {
    "collapsed": false
   },
   "outputs": [
    {
     "data": {
      "text/plain": [
       "[0.055842999999999997, 0.053446, 0.052564, 0.051706000000000002, 0.050871]"
      ]
     },
     "execution_count": 30,
     "metadata": {},
     "output_type": "execute_result"
    }
   ],
   "source": [
    "# first five risk levels\n",
    "frontier_data['Stds'][:5]"
   ]
  },
  {
   "cell_type": "code",
   "execution_count": 31,
   "metadata": {
    "collapsed": false
   },
   "outputs": [
    {
     "data": {
      "text/plain": [
       "[0.1148, 0.1169, 0.11890000000000001, 0.12089999999999999, 0.1229]"
      ]
     },
     "execution_count": 31,
     "metadata": {},
     "output_type": "execute_result"
    }
   ],
   "source": [
    "# first five mean returns\n",
    "frontier_data['Means'][:5]"
   ]
  },
  {
   "cell_type": "code",
   "execution_count": 32,
   "metadata": {
    "collapsed": false
   },
   "outputs": [
    {
     "data": {
      "text/plain": [
       "[array([ 0.,  1.,  0.]),\n",
       " array([ 0.00512,  0.9308 ,  0.06407]),\n",
       " array([ 0.01497,  0.9177 ,  0.06733]),\n",
       " array([ 0.02469,  0.90303,  0.07228]),\n",
       " array([ 0.03458,  0.89049,  0.07493])]"
      ]
     },
     "execution_count": 32,
     "metadata": {},
     "output_type": "execute_result"
    }
   ],
   "source": [
    "# first five sets of optimal weights\n",
    "frontier_data['Weights'][:5]"
   ]
  },
  {
   "cell_type": "code",
   "execution_count": 33,
   "metadata": {
    "collapsed": false
   },
   "outputs": [],
   "source": [
    "def plot_efficient_frontier(frontier_data):\n",
    "    plt.figure(figsize=(12,8))\n",
    "    plt.title('Efficient Frontier')\n",
    "    plt.xlabel('Standard Deviation of the porfolio (Risk))')\n",
    "    plt.ylabel('Return of the portfolio')\n",
    "    plt.plot(frontier_data['Stds'], frontier_data['Means'], '--'); \n",
    "    plt.savefig('5104OS_09_20.png', bbox_inches='tight', dpi=300)"
   ]
  },
  {
   "cell_type": "code",
   "execution_count": 34,
   "metadata": {
    "collapsed": false
   },
   "outputs": [
    {
     "data": {
      "image/png": "[encoded data removed]",
      "text/plain": [
       "<matplotlib.figure.Figure at 0xad0d6e0c>"
      ]
     },
     "metadata": {},
     "output_type": "display_data"
    }
   ],
   "source": [
    "plot_efficient_frontier(frontier_data)"
   ]
  },
  {
   "cell_type": "markdown",
   "metadata": {},
   "source": [
    "# Value At Risk"
   ]
  },
  {
   "cell_type": "code",
   "execution_count": 35,
   "metadata": {
    "collapsed": false
   },
   "outputs": [
    {
     "data": {
      "text/plain": [
       "Ticker           AAPL\n",
       "Date                 \n",
       "2014-01-02  74.437252\n",
       "2014-01-03  72.802175\n",
       "2014-01-06  73.199166\n",
       "2014-01-07  72.675675\n",
       "2014-01-08  73.135920"
      ]
     },
     "execution_count": 35,
     "metadata": {},
     "output_type": "execute_result"
    }
   ],
   "source": [
    "# get adjusted close values for AAPL in 2014\n",
    "aapl_closes = get_historical_closes(['AAPL'], \n",
    "                                    datetime(2014, 1, 1),\n",
    "                                    datetime(2014, 12, 31))\n",
    "aapl_closes[:5]"
   ]
  },
  {
   "cell_type": "code",
   "execution_count": 36,
   "metadata": {
    "collapsed": false
   },
   "outputs": [
    {
     "data": {
      "text/plain": [
       "Ticker           AAPL\n",
       "Date                 \n",
       "2014-01-02        NaN\n",
       "2014-01-03 -0.0222107\n",
       "2014-01-06  0.0054382\n",
       "2014-01-07 -0.0071773\n",
       "2014-01-08  0.0063129"
      ]
     },
     "execution_count": 36,
     "metadata": {},
     "output_type": "execute_result"
    }
   ],
   "source": [
    "# now convert the daily prices to returns\n",
    "returns = calc_daily_returns(aapl_closes)\n",
    "returns[:5]"
   ]
  },
  {
   "cell_type": "code",
   "execution_count": 37,
   "metadata": {
    "collapsed": false
   },
   "outputs": [
    {
     "data": {
      "image/png": "[encoded data removed]",
      "text/plain": [
       "<matplotlib.figure.Figure at 0xacf54dac>"
      ]
     },
     "metadata": {},
     "output_type": "display_data"
    }
   ],
   "source": [
    "# plot the histogram of returns\n",
    "plt.figure(figsize=(12,8))\n",
    "plt.hist(returns.values[1:], bins=100);\n",
    "plt.savefig('5104OS_09_23.png', bbox_inches='tight', dpi=300)"
   ]
  },
  {
   "cell_type": "code",
   "execution_count": 38,
   "metadata": {
    "collapsed": false
   },
   "outputs": [
    {
     "data": {
      "text/plain": [
       "1.6448536269514722"
      ]
     },
     "execution_count": 38,
     "metadata": {},
     "output_type": "execute_result"
    }
   ],
   "source": [
    "# get the z-score for 95%\n",
    "z = spstats.norm.ppf(0.95)\n",
    "z"
   ]
  },
  {
   "cell_type": "code",
   "execution_count": 39,
   "metadata": {
    "collapsed": false
   },
   "outputs": [
    {
     "data": {
      "text/plain": [
       "106168.64999999999"
      ]
     },
     "execution_count": 39,
     "metadata": {},
     "output_type": "execute_result"
    }
   ],
   "source": [
    "# our position is 1000 shares of AAPL at the price\n",
    "# on 2014-22-31\n",
    "position = 1000 * aapl_closes.ix['2014-12-31'].AAPL\n",
    "position"
   ]
  },
  {
   "cell_type": "code",
   "execution_count": 40,
   "metadata": {
    "collapsed": false
   },
   "outputs": [
    {
     "data": {
      "text/plain": [
       "2382.2481562023554"
      ]
     },
     "execution_count": 40,
     "metadata": {},
     "output_type": "execute_result"
    }
   ],
   "source": [
    "# what is our VaR\n",
    "VaR = position * (z * returns.AAPL.std())\n",
    "VaR"
   ]
  },
  {
   "cell_type": "markdown",
   "metadata": {},
   "source": [
    "# Misc"
   ]
  },
  {
   "cell_type": "code",
   "execution_count": 41,
   "metadata": {
    "collapsed": false
   },
   "outputs": [
    {
     "data": {
      "image/png": "[encoded data removed]",
      "text/plain": [
       "<matplotlib.figure.Figure at 0xacff272c>"
      ]
     },
     "metadata": {},
     "output_type": "display_data"
    }
   ],
   "source": [
    "# draw a 99% one-tail confidence interval\n",
    "x = np.linspace(-4,4,101)\n",
    "y = np.exp(-x**2/2) / np.sqrt(2*np.pi)\n",
    "x2 = np.linspace(-4,-2.33,101)\n",
    "y2 = np.exp(-x2**2/2) / np.sqrt(2*np.pi)\n",
    "f = plt.figure(figsize=(12,8))\n",
    "plt.plot(x,y*100, linewidth=2)\n",
    "xf, yf = mlab.poly_between(x2, 0*x2, y2*100)\n",
    "plt.fill(xf, yf, facecolor='g', alpha=0.5)\n",
    "plt.gca().set_xlabel('z-score')\n",
    "plt.gca().set_ylabel('Frequency %')\n",
    "plt.title(\"VaR based on the standard normal distribution\")\n",
    "bbox_props = dict(boxstyle=\"rarrow,pad=0.3\", fc=\"w\", ec=\"b\", lw=2)\n",
    "t = f.text(0.25, 0.35, \"99% VaR confidence level\", ha=\"center\", va=\"center\", \n",
    "           rotation=270,\n",
    "            size=15,\n",
    "            bbox=bbox_props)\n",
    "plt.savefig('5104OS_09_21.png', bbox_inches='tight', dpi=300)"
   ]
  }
 ],
 "metadata": {
  "kernelspec": {
   "display_name": "Python 2",
   "language": "python",
   "name": "python2"
  },
  "language_info": {
   "codemirror_mode": {
    "name": "ipython",
    "version": 2
   },
   "file_extension": ".py",
   "mimetype": "text/x-python",
   "name": "python",
   "nbconvert_exporter": "python",
   "pygments_lexer": "ipython2",
   "version": "2.7.6"
  }
 },
 "nbformat": 4,
 "nbformat_minor": 0
}
